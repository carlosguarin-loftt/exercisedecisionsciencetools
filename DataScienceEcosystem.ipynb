{
 "cells": [
  {
   "cell_type": "markdown",
   "id": "e318f8a5-ceb3-43a3-892a-ac306bede8a7",
   "metadata": {},
   "source": [
    "# Data Science Tools and Ecosystem"
   ]
  },
  {
   "cell_type": "markdown",
   "id": "a31e9ee7-9eaa-4482-a5ba-be7978b6caa6",
   "metadata": {},
   "source": [
    "In this notebook, Data Science Tools and Ecosystem are summarized."
   ]
  },
  {
   "cell_type": "markdown",
   "id": "fe8bc97f-8644-4328-a10b-f477e8dcfba3",
   "metadata": {},
   "source": [
    "Objectives:"
   ]
  },
  {
   "cell_type": "markdown",
   "id": "8e0baa67-a9f0-4cd5-9755-c887f72f0b5b",
   "metadata": {},
   "source": [
    "* List popular languages for Data Science\n",
    "* List sommonly used libraries for Data Science\n",
    "* Name popular development environment open source tools\n",
    "* Execute some arithmetic expressions"
   ]
  },
  {
   "cell_type": "markdown",
   "id": "b47f47f2-4640-4134-b6d7-4fb47d9b01a3",
   "metadata": {},
   "source": [
    "Some of the popular languages that Data Scientists use are:"
   ]
  },
  {
   "cell_type": "markdown",
   "id": "9a37ce52-cd25-4247-8e2b-24c25e725173",
   "metadata": {},
   "source": [
    "1. Phyton\n",
    "2. R\n",
    "3. Julia"
   ]
  },
  {
   "cell_type": "markdown",
   "id": "5a413d68-1010-4ddb-bb7f-caff0ca29599",
   "metadata": {},
   "source": [
    "Some of the commonly used libraries used by Data Scientists include:"
   ]
  },
  {
   "cell_type": "markdown",
   "id": "59e9d53f-4e69-49fa-86a1-f97d2dc8e6a5",
   "metadata": {},
   "source": [
    "1. NumPy\n",
    "2. Pandas\n",
    "3. Lattice\n",
    "4. ggplot2"
   ]
  },
  {
   "cell_type": "markdown",
   "id": "0e48485c-b55c-4e02-a595-b48d2ee8d901",
   "metadata": {},
   "source": [
    "Development environment open source tools used in data science:"
   ]
  },
  {
   "cell_type": "markdown",
   "id": "04d2d2e2-59a3-4c5f-9842-f96ee5e5d581",
   "metadata": {},
   "source": [
    "| Data Science Tools |\n",
    "|--------------------|\n",
    "| Jupiter Lab |\n",
    "| R Studio |\n",
    "| Spyder | \n",
    "| Visual Studio Code |"
   ]
  },
  {
   "cell_type": "markdown",
   "id": "2799fed9-2d39-43d3-8679-70b7a6c6ec93",
   "metadata": {},
   "source": [
    "### Below are a few examples of evaluating arithmetic expressions in Python:"
   ]
  },
  {
   "cell_type": "code",
   "execution_count": 18,
   "id": "cc80165b-a3cb-43be-a206-79d058ed768f",
   "metadata": {},
   "outputs": [
    {
     "data": {
      "text/plain": [
       "17"
      ]
     },
     "execution_count": 18,
     "metadata": {},
     "output_type": "execute_result"
    }
   ],
   "source": [
    "# This a simple arithmetic expression to mutiply then add integers.\n",
    "(3*4)+5"
   ]
  },
  {
   "cell_type": "code",
   "execution_count": 20,
   "id": "24f55549-4241-4d35-96a6-0d9f62a31bb9",
   "metadata": {},
   "outputs": [
    {
     "data": {
      "text/plain": [
       "3.3333333333333335"
      ]
     },
     "execution_count": 20,
     "metadata": {},
     "output_type": "execute_result"
    }
   ],
   "source": [
    "# This will convert 200 minutes to hours by diving by 60.\n",
    "200/60"
   ]
  },
  {
   "cell_type": "markdown",
   "id": "d95ef22c-302a-4bcc-b57d-59e59e5d59eb",
   "metadata": {},
   "source": [
    "## Author\n",
    "Carlos Guarin"
   ]
  },
  {
   "cell_type": "code",
   "execution_count": null,
   "id": "c203c37e-e426-4312-99fe-4aefb72e0933",
   "metadata": {},
   "outputs": [],
   "source": []
  }
 ],
 "metadata": {
  "kernelspec": {
   "display_name": "Python 3 (ipykernel)",
   "language": "python",
   "name": "python3"
  },
  "language_info": {
   "codemirror_mode": {
    "name": "ipython",
    "version": 3
   },
   "file_extension": ".py",
   "mimetype": "text/x-python",
   "name": "python",
   "nbconvert_exporter": "python",
   "pygments_lexer": "ipython3",
   "version": "3.12.4"
  }
 },
 "nbformat": 4,
 "nbformat_minor": 5
}
